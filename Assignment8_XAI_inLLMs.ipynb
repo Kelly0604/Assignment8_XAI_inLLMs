{
  "nbformat": 4,
  "nbformat_minor": 0,
  "metadata": {
    "colab": {
      "provenance": []
    },
    "kernelspec": {
      "name": "python3",
      "display_name": "Python 3"
    },
    "language_info": {
      "name": "python"
    }
  },
  "cells": [
    {
      "cell_type": "markdown",
      "source": [
        "# Assignment 8: XAI in LLMs\n",
        "\n",
        "Kelly Tong\n",
        "\n",
        "Link to Colab: https://colab.research.google.com/drive/1iZNzjZxPN0iwKYZ_UsmlpKBdtYl2k8iZ#scrollTo=RYXsWwdpzfvi\n",
        "\n",
        "[![Open In Colab](https://colab.research.google.com/assets/colab-badge.svg)](https://colab.research.google.com/github/Kelly0604/Assignment8_XAI_inLLMs/blob/main/Assignment8_XAI_inLLMs.ipynb)"
      ],
      "metadata": {
        "id": "RYXsWwdpzfvi"
      }
    },
    {
      "cell_type": "markdown",
      "source": [
        "### Preparation"
      ],
      "metadata": {
        "id": "eLNYjwNtLi4P"
      }
    },
    {
      "cell_type": "code",
      "execution_count": null,
      "metadata": {
        "id": "eDzxhEXVzYDr"
      },
      "outputs": [],
      "source": [
        "# Link to Github\n",
        "!git clone https://github.com/Kelly0604/Assignment6_Explainable_TechniquesII.git\n",
        "%cd /content/Assignment6_Explainable_TechniquesII\n",
        "%ls\n",
        "# update\n",
        "!git pull"
      ]
    },
    {
      "cell_type": "code",
      "source": [
        "pip install torch transformers"
      ],
      "metadata": {
        "colab": {
          "base_uri": "https://localhost:8080/"
        },
        "id": "L43azXMdzqTV",
        "outputId": "19959015-fbd4-4216-9e9a-e8102fa3c1a8"
      },
      "execution_count": 1,
      "outputs": [
        {
          "output_type": "stream",
          "name": "stdout",
          "text": [
            "Requirement already satisfied: torch in /usr/local/lib/python3.10/dist-packages (2.5.0+cu121)\n",
            "Requirement already satisfied: transformers in /usr/local/lib/python3.10/dist-packages (4.44.2)\n",
            "Requirement already satisfied: filelock in /usr/local/lib/python3.10/dist-packages (from torch) (3.16.1)\n",
            "Requirement already satisfied: typing-extensions>=4.8.0 in /usr/local/lib/python3.10/dist-packages (from torch) (4.12.2)\n",
            "Requirement already satisfied: networkx in /usr/local/lib/python3.10/dist-packages (from torch) (3.4.2)\n",
            "Requirement already satisfied: jinja2 in /usr/local/lib/python3.10/dist-packages (from torch) (3.1.4)\n",
            "Requirement already satisfied: fsspec in /usr/local/lib/python3.10/dist-packages (from torch) (2024.6.1)\n",
            "Requirement already satisfied: sympy==1.13.1 in /usr/local/lib/python3.10/dist-packages (from torch) (1.13.1)\n",
            "Requirement already satisfied: mpmath<1.4,>=1.1.0 in /usr/local/lib/python3.10/dist-packages (from sympy==1.13.1->torch) (1.3.0)\n",
            "Requirement already satisfied: huggingface-hub<1.0,>=0.23.2 in /usr/local/lib/python3.10/dist-packages (from transformers) (0.24.7)\n",
            "Requirement already satisfied: numpy>=1.17 in /usr/local/lib/python3.10/dist-packages (from transformers) (1.26.4)\n",
            "Requirement already satisfied: packaging>=20.0 in /usr/local/lib/python3.10/dist-packages (from transformers) (24.1)\n",
            "Requirement already satisfied: pyyaml>=5.1 in /usr/local/lib/python3.10/dist-packages (from transformers) (6.0.2)\n",
            "Requirement already satisfied: regex!=2019.12.17 in /usr/local/lib/python3.10/dist-packages (from transformers) (2024.9.11)\n",
            "Requirement already satisfied: requests in /usr/local/lib/python3.10/dist-packages (from transformers) (2.32.3)\n",
            "Requirement already satisfied: safetensors>=0.4.1 in /usr/local/lib/python3.10/dist-packages (from transformers) (0.4.5)\n",
            "Requirement already satisfied: tokenizers<0.20,>=0.19 in /usr/local/lib/python3.10/dist-packages (from transformers) (0.19.1)\n",
            "Requirement already satisfied: tqdm>=4.27 in /usr/local/lib/python3.10/dist-packages (from transformers) (4.66.5)\n",
            "Requirement already satisfied: MarkupSafe>=2.0 in /usr/local/lib/python3.10/dist-packages (from jinja2->torch) (3.0.2)\n",
            "Requirement already satisfied: charset-normalizer<4,>=2 in /usr/local/lib/python3.10/dist-packages (from requests->transformers) (3.4.0)\n",
            "Requirement already satisfied: idna<4,>=2.5 in /usr/local/lib/python3.10/dist-packages (from requests->transformers) (3.10)\n",
            "Requirement already satisfied: urllib3<3,>=1.21.1 in /usr/local/lib/python3.10/dist-packages (from requests->transformers) (2.2.3)\n",
            "Requirement already satisfied: certifi>=2017.4.17 in /usr/local/lib/python3.10/dist-packages (from requests->transformers) (2024.8.30)\n"
          ]
        }
      ]
    },
    {
      "cell_type": "code",
      "source": [
        "# import necessary packages\n",
        "import torch\n",
        "from transformers import AutoTokenizer, AutoModelForCausalLM"
      ],
      "metadata": {
        "id": "1O0nllXEKFHg"
      },
      "execution_count": 4,
      "outputs": []
    },
    {
      "cell_type": "markdown",
      "source": [
        "### Modeling"
      ],
      "metadata": {
        "id": "3-sp0qsYLngi"
      }
    },
    {
      "cell_type": "code",
      "source": [
        "# Load a gpt2 model and tokenizer\n",
        "model_name = \"gpt2\"\n",
        "tokenizer = AutoTokenizer.from_pretrained(model_name)\n",
        "model = AutoModelForCausalLM.from_pretrained(model_name)\n",
        "model.eval()"
      ],
      "metadata": {
        "colab": {
          "base_uri": "https://localhost:8080/"
        },
        "id": "QFDpC-O3KHtz",
        "outputId": "9989aa82-6099-4a99-9604-f65195b2ac5e"
      },
      "execution_count": 5,
      "outputs": [
        {
          "output_type": "stream",
          "name": "stderr",
          "text": [
            "/usr/local/lib/python3.10/dist-packages/transformers/tokenization_utils_base.py:1601: FutureWarning: `clean_up_tokenization_spaces` was not set. It will be set to `True` by default. This behavior will be depracted in transformers v4.45, and will be then set to `False` by default. For more details check this issue: https://github.com/huggingface/transformers/issues/31884\n",
            "  warnings.warn(\n"
          ]
        },
        {
          "output_type": "execute_result",
          "data": {
            "text/plain": [
              "GPT2LMHeadModel(\n",
              "  (transformer): GPT2Model(\n",
              "    (wte): Embedding(50257, 768)\n",
              "    (wpe): Embedding(1024, 768)\n",
              "    (drop): Dropout(p=0.1, inplace=False)\n",
              "    (h): ModuleList(\n",
              "      (0-11): 12 x GPT2Block(\n",
              "        (ln_1): LayerNorm((768,), eps=1e-05, elementwise_affine=True)\n",
              "        (attn): GPT2SdpaAttention(\n",
              "          (c_attn): Conv1D()\n",
              "          (c_proj): Conv1D()\n",
              "          (attn_dropout): Dropout(p=0.1, inplace=False)\n",
              "          (resid_dropout): Dropout(p=0.1, inplace=False)\n",
              "        )\n",
              "        (ln_2): LayerNorm((768,), eps=1e-05, elementwise_affine=True)\n",
              "        (mlp): GPT2MLP(\n",
              "          (c_fc): Conv1D()\n",
              "          (c_proj): Conv1D()\n",
              "          (act): NewGELUActivation()\n",
              "          (dropout): Dropout(p=0.1, inplace=False)\n",
              "        )\n",
              "      )\n",
              "    )\n",
              "    (ln_f): LayerNorm((768,), eps=1e-05, elementwise_affine=True)\n",
              "  )\n",
              "  (lm_head): Linear(in_features=768, out_features=50257, bias=False)\n",
              ")"
            ]
          },
          "metadata": {},
          "execution_count": 5
        }
      ]
    },
    {
      "cell_type": "code",
      "source": [
        "# Prompt\n",
        "prompt = \"The assignment for this week is using XAI methods and applying them to prompts. These methods may include saliency score, perturbation and counterfactuals.\""
      ],
      "metadata": {
        "id": "NuWbglEcKPNT"
      },
      "execution_count": 6,
      "outputs": []
    },
    {
      "cell_type": "markdown",
      "source": [
        "The prompt above is mannually written and does not have a source. The information is not perceived as 100% accurate. It is just for examining the generated text from gpt-2 model and the saliency score test."
      ],
      "metadata": {
        "id": "f10RiOsiLq2V"
      }
    },
    {
      "cell_type": "code",
      "source": [
        "# Tokenize the input and get input IDs\n",
        "inputs = tokenizer(prompt, return_tensors=\"pt\")\n",
        "input_ids = inputs[\"input_ids\"]\n",
        "attention_mask = inputs[\"attention_mask\"]"
      ],
      "metadata": {
        "id": "ouCbyCKCKSEB"
      },
      "execution_count": 7,
      "outputs": []
    },
    {
      "cell_type": "code",
      "source": [
        "# Set pad_token_id to avoid warnings\n",
        "model.config.pad_token_id = model.config.eos_token_id\n",
        "\n",
        "# Generate text based on the prompt\n",
        "with torch.no_grad():\n",
        "    generated_outputs = model.generate(\n",
        "        input_ids,\n",
        "        attention_mask=attention_mask,\n",
        "        max_length=60,\n",
        "        num_return_sequences=1,\n",
        "        pad_token_id=model.config.eos_token_id\n",
        "    )\n",
        "generated_text = tokenizer.decode(generated_outputs[0], skip_special_tokens=True)\n",
        "print(\"Generated Text:\")\n",
        "print(generated_text)\n"
      ],
      "metadata": {
        "colab": {
          "base_uri": "https://localhost:8080/"
        },
        "id": "qpYbJzHYKWPE",
        "outputId": "b866b0d9-3877-40ad-c209-3442009ed12a"
      },
      "execution_count": 11,
      "outputs": [
        {
          "output_type": "stream",
          "name": "stdout",
          "text": [
            "Generated Text:\n",
            "The assignment for this week is using XAI methods and applying them to prompts. These methods may include saliency score, perturbation and counterfactuals.\n",
            "\n",
            "The next step is to use the XAI method to determine whether a given prompt is a positive or negative response. The X\n"
          ]
        }
      ]
    },
    {
      "cell_type": "markdown",
      "source": [
        "### First sight explanation:\n",
        "\n",
        "GPT-2 is a very original LLM which does not provide very great responses without much tuning. The responses (when length is set above 60) seems to be repeatetive, hence the max length here is set to 60.\n",
        "\n",
        "The fact that the generated text has signals on `next step` suggests that the generated text might be influenced by contexts provided in `assignment` and `methods` which both might require taking steps. Also some of the generated texts tend to be repeating words in the input prompt, such as `XAI method` and `prompt`. More of the details can be analyzed with the saliency score below."
      ],
      "metadata": {
        "id": "7aL74od2L_dD"
      }
    },
    {
      "cell_type": "markdown",
      "source": [
        "### Calculating Saliency Score"
      ],
      "metadata": {
        "id": "KdazgoL8ORzk"
      }
    },
    {
      "cell_type": "code",
      "source": [
        "# Get embeddings\n",
        "embeddings = model.transformer.wte(input_ids)\n",
        "embeddings.retain_grad()\n",
        "\n",
        "# Forward pass\n",
        "outputs = model(inputs_embeds=embeddings, attention_mask=attention_mask)\n",
        "logits = outputs.logits\n",
        "\n",
        "# Select the log-probability of the last token in the sequence as our \"output\"\n",
        "log_probs = torch.nn.functional.log_softmax(logits, dim=-1)\n",
        "target_token_log_probs = log_probs[:, -1, :].max(dim=1).values\n",
        "\n",
        "# Backward pass\n",
        "target_token_log_probs.backward()\n",
        "\n",
        "# Calculate saliency scores as the norm of the gradients for each embedding\n",
        "saliency = embeddings.grad.abs().sum(dim=-1).squeeze(0)\n",
        "\n",
        "# Normalize saliency scores for readability\n",
        "normalized_saliency = saliency / saliency.sum()\n",
        "\n",
        "# Decode the tokens back to words for visualization\n",
        "tokens = tokenizer.convert_ids_to_tokens(input_ids.squeeze().tolist())\n",
        "saliency_scores = list(zip(tokens, normalized_saliency.detach().cpu().numpy()))\n",
        "\n",
        "# Output\n",
        "print(\"\\nSaliency Scores:\")\n",
        "for token, score in saliency_scores:\n",
        "    print(f\"Token: {token}, Saliency Score: {score:.4f}\")"
      ],
      "metadata": {
        "colab": {
          "base_uri": "https://localhost:8080/"
        },
        "id": "P0AeHHYUKZ1Z",
        "outputId": "46d63f74-152b-4f24-f7ef-fcd9d1842aa2"
      },
      "execution_count": 12,
      "outputs": [
        {
          "output_type": "stream",
          "name": "stdout",
          "text": [
            "\n",
            "Saliency Scores:\n",
            "Token: The, Saliency Score: 0.0575\n",
            "Token: Ġassignment, Saliency Score: 0.0647\n",
            "Token: Ġfor, Saliency Score: 0.0570\n",
            "Token: Ġthis, Saliency Score: 0.0436\n",
            "Token: Ġweek, Saliency Score: 0.0370\n",
            "Token: Ġis, Saliency Score: 0.0502\n",
            "Token: Ġusing, Saliency Score: 0.0256\n",
            "Token: ĠX, Saliency Score: 0.0209\n",
            "Token: AI, Saliency Score: 0.0396\n",
            "Token: Ġmethods, Saliency Score: 0.0483\n",
            "Token: Ġand, Saliency Score: 0.0473\n",
            "Token: Ġapplying, Saliency Score: 0.0257\n",
            "Token: Ġthem, Saliency Score: 0.0138\n",
            "Token: Ġto, Saliency Score: 0.0268\n",
            "Token: Ġprompts, Saliency Score: 0.0296\n",
            "Token: ., Saliency Score: 0.0633\n",
            "Token: ĠThese, Saliency Score: 0.0195\n",
            "Token: Ġmethods, Saliency Score: 0.0237\n",
            "Token: Ġmay, Saliency Score: 0.0183\n",
            "Token: Ġinclude, Saliency Score: 0.0242\n",
            "Token: Ġsal, Saliency Score: 0.0178\n",
            "Token: iency, Saliency Score: 0.0181\n",
            "Token: Ġscore, Saliency Score: 0.0176\n",
            "Token: ,, Saliency Score: 0.0253\n",
            "Token: Ġpert, Saliency Score: 0.0305\n",
            "Token: urb, Saliency Score: 0.0133\n",
            "Token: ation, Saliency Score: 0.0068\n",
            "Token: Ġand, Saliency Score: 0.0208\n",
            "Token: Ġcounter, Saliency Score: 0.0129\n",
            "Token: fact, Saliency Score: 0.0174\n",
            "Token: ual, Saliency Score: 0.0147\n",
            "Token: s, Saliency Score: 0.0100\n",
            "Token: ., Saliency Score: 0.0581\n"
          ]
        }
      ]
    },
    {
      "cell_type": "code",
      "source": [
        "import matplotlib.pyplot as plt\n",
        "\n",
        "# Tokens and their corresponding saliency scores\n",
        "tokens = [\"The\", \"assignment\", \"for\", \"this\", \"week\", \"is\", \"using\", \"X\", \"AI\", \"methods\", \"and\",\n",
        "          \"applying\", \"them\", \"to\", \"prompts\", \".\", \"These\", \"methods\", \"may\", \"include\",\n",
        "          \"sal\", \"iency\", \"score\", \",\", \"pert\", \"urb\", \"ation\", \"and\", \"counter\", \"fact\", \"ual\", \"s\", \".\"]\n",
        "saliency_scores = [0.0575, 0.0647, 0.0570, 0.0436, 0.0370, 0.0502, 0.0256, 0.0209, 0.0396, 0.0483,\n",
        "                   0.0473, 0.0257, 0.0138, 0.0268, 0.0296, 0.0633, 0.0195, 0.0237, 0.0183, 0.0242,\n",
        "                   0.0178, 0.0181, 0.0176, 0.0253, 0.0305, 0.0133, 0.0068, 0.0208, 0.0129, 0.0174,\n",
        "                   0.0147, 0.0100, 0.0581]\n",
        "\n",
        "# Plotting the saliency scores\n",
        "plt.figure(figsize=(12, 6))\n",
        "plt.bar(tokens, saliency_scores, color='skyblue')\n",
        "plt.xticks(rotation=90)\n",
        "plt.xlabel(\"Tokens\")\n",
        "plt.ylabel(\"Saliency Score\")\n",
        "plt.title(\"Saliency Scores for Tokens in the Prompt\")\n",
        "plt.show()"
      ],
      "metadata": {
        "colab": {
          "base_uri": "https://localhost:8080/",
          "height": 631
        },
        "id": "93vGhZvsLdxZ",
        "outputId": "f002f002-fca3-4825-dec9-42903f604c48"
      },
      "execution_count": 13,
      "outputs": [
        {
          "output_type": "display_data",
          "data": {
            "text/plain": [
              "<Figure size 1200x600 with 1 Axes>"
            ],
            "image/png": "[encoded data removed]"
          },
          "metadata": {}
        }
      ]
    },
    {
      "cell_type": "markdown",
      "source": [
        "### Explanation of Saliency Score\n",
        "\n",
        "`High Saliency Tokens:`\n",
        "\n",
        "- The tokens assignment (0.0647), The (0.0575), and the punctuation . (0.0633 and 0.0581) are some of the most influential tokens in the prompt. The word \"assignment\" likely signals the prompt’s academic or task-related nature, impacting the model's understanding of the context.\n",
        "- High scores on punctuation (.) can occur because punctuation often denotes the end of a sentence, helping the model interpret sentence structure.\n",
        "\n",
        "`Moderate Saliency Tokens: `\n",
        "\n",
        "- Words like methods (0.0483), is (0.0502), and for (0.0570) have moderate saliency, helping define the task (“using XAI methods”), providing context without adding specific detail.\n",
        "\n",
        "`Lower Saliency Tokens:`\n",
        "\n",
        "- Tokens such as X (0.0209), them (0.0138), and parts of compound words like counter (0.0129) and fact (0.0174) have lower saliency scores. These tokens add specificity but aren't as central to the task description's core meaning.\n",
        "- The fragmented scores on words like saliency score and perturbation are likely due to the tokenization splitting these words, leading to each part having a lower individual impact.\n",
        "\n",
        "In the plot, the specific words such as “assignment,” “The,” “methods,” and punctuation “.” stand out with higher saliency scores, suggesting they are key to the model's understanding of the prompt. Words with lower scores contribute less individually, often being parts of longer, compound words or secondary context details."
      ],
      "metadata": {
        "id": "fJGla1NyOYNo"
      }
    }
  ]
}